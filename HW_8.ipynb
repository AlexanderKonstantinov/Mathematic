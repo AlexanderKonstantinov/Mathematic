{
 "cells": [
  {
   "cell_type": "markdown",
   "metadata": {},
   "source": [
    "## Практическое задание №6"
   ]
  },
  {
   "cell_type": "code",
   "execution_count": 1,
   "metadata": {},
   "outputs": [],
   "source": [
    "import numpy as np\n",
    "import warnings\n",
    "import matplotlib.pyplot as plt\n",
    "from scipy import linalg\n",
    "\n",
    "warnings.filterwarnings('ignore')"
   ]
  },
  {
   "cell_type": "markdown",
   "metadata": {},
   "source": [
    "### 1. Решите линейную систему"
   ]
  },
  {
   "cell_type": "code",
   "execution_count": 2,
   "metadata": {},
   "outputs": [],
   "source": [
    "A = np.array([\n",
    "    [1, 2, 3],\n",
    "    [4, 0, 6],\n",
    "    [7, 8, 9]\n",
    "])\n",
    "\n",
    "B = np.array([12, 2, 1])"
   ]
  },
  {
   "cell_type": "markdown",
   "metadata": {},
   "source": [
    "Способ 1"
   ]
  },
  {
   "cell_type": "code",
   "execution_count": 3,
   "metadata": {},
   "outputs": [
    {
     "data": {
      "text/plain": [
       "array([-9.2       ,  0.9       ,  6.46666667])"
      ]
     },
     "execution_count": 3,
     "metadata": {},
     "output_type": "execute_result"
    }
   ],
   "source": [
    "np.linalg.solve(A, B)"
   ]
  },
  {
   "cell_type": "markdown",
   "metadata": {},
   "source": [
    "Способ 2"
   ]
  },
  {
   "cell_type": "code",
   "execution_count": 4,
   "metadata": {},
   "outputs": [
    {
     "data": {
      "text/plain": [
       "array([-9.2       ,  0.9       ,  6.46666667])"
      ]
     },
     "execution_count": 4,
     "metadata": {},
     "output_type": "execute_result"
    }
   ],
   "source": [
    "Ainv = np.linalg.inv(A)\n",
    "\n",
    "np.dot(Ainv, B)"
   ]
  },
  {
   "cell_type": "markdown",
   "metadata": {},
   "source": [
    "### 2. Найдите псевдорешение"
   ]
  },
  {
   "cell_type": "code",
   "execution_count": 5,
   "metadata": {},
   "outputs": [],
   "source": [
    "A = np.array([\n",
    "    [1, 2, -1],\n",
    "    [3, -4, 0],\n",
    "    [8, -5, 2],\n",
    "    [2, 0, -5],\n",
    "    [11, 4, -7]\n",
    "])\n",
    "\n",
    "B = np.array([1, 7, 12, 7, 15])"
   ]
  },
  {
   "cell_type": "code",
   "execution_count": 6,
   "metadata": {},
   "outputs": [
    {
     "name": "stdout",
     "output_type": "stream",
     "text": [
      "[ 1.13919353 -0.90498444 -0.9009803 ]\n"
     ]
    }
   ],
   "source": [
    "answers = np.linalg.lstsq(A, B)[0]\n",
    "\n",
    "print(answers)"
   ]
  },
  {
   "cell_type": "code",
   "execution_count": 7,
   "metadata": {},
   "outputs": [
    {
     "data": {
      "text/plain": [
       "array([0.76979505, 0.03751834, 0.16349019, 0.21671145, 0.21805313])"
      ]
     },
     "execution_count": 7,
     "metadata": {},
     "output_type": "execute_result"
    }
   ],
   "source": [
    "np.abs(np.dot(A, answers) - B)"
   ]
  },
  {
   "cell_type": "markdown",
   "metadata": {},
   "source": [
    "### 3. Сколько решений имеет линейная система"
   ]
  },
  {
   "cell_type": "code",
   "execution_count": 8,
   "metadata": {},
   "outputs": [],
   "source": [
    "def number_of_decisions(A, B):\n",
    "    C = np.concatenate((A, B.T), axis=1)\n",
    "    \n",
    "    rank_A = np.linalg.matrix_rank(A, 0.0001)\n",
    "    rank_C = np.linalg.matrix_rank(C, 0.0001)\n",
    "    \n",
    "    is_a_singular = A.shape[0] != A.shape[1] or rank_A != A.shape[0]\n",
    "    \n",
    "    print(C)\n",
    "    print(f'{rank_A}\\n{rank_C}')\n",
    "    \n",
    "    if rank_A < rank_C:\n",
    "        return 'Система не имеет решений'\n",
    "    elif rank_A == rank_C and is_a_singular:\n",
    "        return 'Система имеет бесконечное количество решений'\n",
    "    else:\n",
    "        return 'Система имеет единственное решение'"
   ]
  },
  {
   "cell_type": "code",
   "execution_count": 9,
   "metadata": {},
   "outputs": [
    {
     "name": "stdout",
     "output_type": "stream",
     "text": [
      "[[ 1  2  3 12]\n",
      " [ 4  5  6  2]\n",
      " [ 7  8  9  1]]\n",
      "2\n",
      "3\n",
      "Система не имеет решений\n"
     ]
    }
   ],
   "source": [
    "A = np.array([\n",
    "    [1, 2, 3],\n",
    "    [4, 5, 6],\n",
    "    [7, 8, 9]\n",
    "])\n",
    "\n",
    "B = np.array([[12, 2, 1]])\n",
    "\n",
    "print(number_of_decisions(A, B))"
   ]
  },
  {
   "cell_type": "code",
   "execution_count": 10,
   "metadata": {},
   "outputs": [
    {
     "name": "stdout",
     "output_type": "stream",
     "text": [
      "[[1 2 3 2]\n",
      " [4 5 6 2]\n",
      " [7 8 9 2]]\n",
      "2\n",
      "2\n",
      "Система имеет бесконечное количество решений\n"
     ]
    }
   ],
   "source": [
    "B = np.array([[2, 2, 2]])\n",
    "\n",
    "print(number_of_decisions(A, B))"
   ]
  },
  {
   "cell_type": "markdown",
   "metadata": {},
   "source": [
    "### 4. Вычислите LU-разложение матрицы"
   ]
  },
  {
   "cell_type": "code",
   "execution_count": 11,
   "metadata": {},
   "outputs": [
    {
     "name": "stdout",
     "output_type": "stream",
     "text": [
      "[[0. 1. 0.]\n",
      " [0. 0. 1.]\n",
      " [1. 0. 0.]]\n",
      "[[ 1.    0.    0.  ]\n",
      " [ 0.25  1.    0.  ]\n",
      " [ 0.5  -0.4   1.  ]]\n",
      "[[  4.    28.    73.  ]\n",
      " [  0.    -5.   -15.25]\n",
      " [  0.     0.   -21.6 ]]\n"
     ]
    }
   ],
   "source": [
    "A = np.array([\n",
    "    [1, 2, 3],\n",
    "    [2, 16, 21],\n",
    "    [4, 28, 73]\n",
    "])\n",
    "\n",
    "P, L, U = linalg.lu(A)\n",
    "\n",
    "print(P)\n",
    "print(L)\n",
    "print(U)"
   ]
  },
  {
   "cell_type": "code",
   "execution_count": 12,
   "metadata": {},
   "outputs": [
    {
     "data": {
      "text/plain": [
       "array([55.15740741, -5.10648148, -0.98148148])"
      ]
     },
     "execution_count": 12,
     "metadata": {},
     "output_type": "execute_result"
    }
   ],
   "source": [
    "B = np.array([6, 42, 8])\n",
    "\n",
    "A2 = np.dot(L, U)\n",
    "\n",
    "np.linalg.solve(A2, B)"
   ]
  },
  {
   "cell_type": "markdown",
   "metadata": {},
   "source": [
    "### 5. Найдите нормальное псевдорешение недоопределенной системы"
   ]
  },
  {
   "cell_type": "code",
   "execution_count": 13,
   "metadata": {},
   "outputs": [],
   "source": [
    "def Q(x, y, z):\n",
    "    return (x**2 + y**2 + z**2)"
   ]
  },
  {
   "cell_type": "code",
   "execution_count": 14,
   "metadata": {},
   "outputs": [
    {
     "data": {
      "image/png": "[encoded data removed]",
      "text/plain": [
       "<Figure size 432x288 with 1 Axes>"
      ]
     },
     "metadata": {
      "needs_background": "light"
     },
     "output_type": "display_data"
    }
   ],
   "source": [
    "# 2z = 2x + 4y - 2\n",
    "# 2z = 12 - 8x + 5y\n",
    "\n",
    "# 2x + 4y - 2 = 12 - 8x + 5y\n",
    "# y = 10x - 14\n",
    "\n",
    "# z = x + 2y - 1\n",
    "# z = x + 2(10x - 14) - 1\n",
    "# z = 21x - 29\n",
    " \n",
    "x = np.linspace(-5, 5, 501)\n",
    "q = []\n",
    "\n",
    "\n",
    "\n",
    "plt.plot(x, Q(x, 10 * x - 14, 21 * x - 29))\n",
    "plt.xlabel('x')\n",
    "plt.ylabel('y')\n",
    "plt.grid(True)\n",
    "plt.show()"
   ]
  },
  {
   "cell_type": "code",
   "execution_count": 15,
   "metadata": {},
   "outputs": [
    {
     "name": "stdout",
     "output_type": "stream",
     "text": [
      "x = 1.38\n",
      "y = -0.20000000000000107\n",
      "z = -0.020000000000003126\n"
     ]
    }
   ],
   "source": [
    "# 2z = 2x + 4y - 2\n",
    "# 2z = 12 - 8x + 5y\n",
    "\n",
    "# 2x + 4y - 2 = 12 - 8x + 5y\n",
    "# y = 10x - 14\n",
    "\n",
    "# z = x + 2y - 1\n",
    "# z = x + 2(10x - 14) - 1\n",
    "# z = 21x - 29\n",
    " \n",
    "x = np.linspace(-5, 5, 1001)\n",
    "q = []\n",
    "\n",
    "q_min = 1e308\n",
    "x_min, y_min, z_min = 0, 0, 0\n",
    "\n",
    "for x_ in x:\n",
    "    y_ = 10 * x_ - 14\n",
    "    z_ = 21 * x_ - 29\n",
    "    q_ = Q(x_, y_, z_)\n",
    "    q.append(q_)\n",
    "    if q_min > q_:\n",
    "        q_min = q_\n",
    "        x_min, y_min, z_min = x_, y_, z_\n",
    "        \n",
    "print(f'x = {x_min}\\ny = {y_min}\\nz = {z_min}')"
   ]
  },
  {
   "cell_type": "code",
   "execution_count": 16,
   "metadata": {},
   "outputs": [
    {
     "data": {
      "image/png": "[encoded data removed]",
      "text/plain": [
       "<Figure size 432x1080 with 3 Axes>"
      ]
     },
     "metadata": {
      "needs_background": "light"
     },
     "output_type": "display_data"
    }
   ],
   "source": [
    "plt.rcParams['axes.grid'] = True\n",
    "fig, (ax1, ax2, ax3) = plt.subplots(3,figsize=(6,15))\n",
    "\n",
    "ax1.set(xlabel='x', ylabel='Q(x,y,z)')\n",
    "ax1.plot(x, q)\n",
    "ax1.scatter(x_min, q_min, c='r')\n",
    "ax1.annotate(f'({x_min:.2f}, {q_min:.2f})', xy=(x_min + 1, q_min))\n",
    "\n",
    "ax2.set(xlabel='y', ylabel='Q(x,y,z)')\n",
    "ax2.plot(10 * x - 14, q)\n",
    "ax2.scatter(y_min, q_min, c='r')\n",
    "ax2.annotate(f'({y_min:.2f}, {q_min:.2f})', xy=(y_min + 1, q_min))\n",
    "\n",
    "ax3.set(xlabel='z', ylabel='Q(x,y,z)')\n",
    "ax3.plot(21 * x - 29, q)\n",
    "ax3.scatter(z_min, q_min, c='r')\n",
    "ax3.annotate(f'({z_min:.2f}, {q_min:.2f})', xy=(z_min + 1, q_min));"
   ]
  },
  {
   "cell_type": "code",
   "execution_count": 17,
   "metadata": {
    "scrolled": true
   },
   "outputs": [
    {
     "data": {
      "text/plain": [
       "(array([ 1.38191882, -0.18081181,  0.0202952 ]),\n",
       " array([], dtype=float64),\n",
       " 2,\n",
       " array([9.65316119, 2.41173777]))"
      ]
     },
     "execution_count": 17,
     "metadata": {},
     "output_type": "execute_result"
    }
   ],
   "source": [
    "np.linalg.lstsq([[1, 2, -1], [8, -5, 2]], [1, 12])"
   ]
  },
  {
   "cell_type": "markdown",
   "metadata": {},
   "source": [
    "### 6. Найдите одно из псевдорешений вырожденной системы"
   ]
  },
  {
   "cell_type": "code",
   "execution_count": 18,
   "metadata": {},
   "outputs": [],
   "source": [
    "A = np.array([[1, 2, 3],\n",
    "              [4, 5, 6],\n",
    "              [7, 8, 9]])\n",
    "\n",
    "B = np.array([2, 5, 11])\n",
    "\n",
    "A = np.array([[1, 2, 3], [4, 5, 6], [7, 8, 9]])\n",
    "B = np.array([6, 12, 24])\n",
    "\n",
    "Q, R = np.linalg.qr(A)"
   ]
  },
  {
   "cell_type": "code",
   "execution_count": 19,
   "metadata": {},
   "outputs": [
    {
     "data": {
      "text/plain": [
       "array([[1., 2., 3.],\n",
       "       [4., 5., 6.],\n",
       "       [7., 8., 9.]])"
      ]
     },
     "execution_count": 19,
     "metadata": {},
     "output_type": "execute_result"
    }
   ],
   "source": [
    "np.dot(Q, R)"
   ]
  },
  {
   "cell_type": "code",
   "execution_count": 20,
   "metadata": {},
   "outputs": [],
   "source": [
    "R1 = R[:2, :2]\n",
    "B1 = np.dot(np.transpose(Q), B)[:2]"
   ]
  },
  {
   "cell_type": "code",
   "execution_count": 21,
   "metadata": {},
   "outputs": [
    {
     "data": {
      "text/plain": [
       "array([1., 2.])"
      ]
     },
     "execution_count": 21,
     "metadata": {},
     "output_type": "execute_result"
    }
   ],
   "source": [
    "X1 = np.linalg.solve(R1, B1)\n",
    "X1"
   ]
  }
 ],
 "metadata": {
  "kernelspec": {
   "display_name": "Python 3",
   "language": "python",
   "name": "python3"
  },
  "language_info": {
   "codemirror_mode": {
    "name": "ipython",
    "version": 3
   },
   "file_extension": ".py",
   "mimetype": "text/x-python",
   "name": "python",
   "nbconvert_exporter": "python",
   "pygments_lexer": "ipython3",
   "version": "3.7.3"
  }
 },
 "nbformat": 4,
 "nbformat_minor": 2
}

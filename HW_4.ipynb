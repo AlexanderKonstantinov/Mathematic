{
 "cells": [
  {
   "cell_type": "markdown",
   "metadata": {},
   "source": [
    "## Задания к уроку 4"
   ]
  },
  {
   "cell_type": "code",
   "execution_count": 1,
   "metadata": {},
   "outputs": [],
   "source": [
    "import numpy as np\n",
    "import matplotlib.pyplot as plt\n",
    "import warnings\n",
    "warnings.filterwarnings('ignore')"
   ]
  },
  {
   "cell_type": "markdown",
   "metadata": {},
   "source": [
    "### 1. Напишите код, моделирующий выпадение поля в рулетке (с учетом поля зеро)."
   ]
  },
  {
   "cell_type": "code",
   "execution_count": 2,
   "metadata": {},
   "outputs": [
    {
     "name": "stdout",
     "output_type": "stream",
     "text": [
      "27\n",
      "Continue? (y/n)y\n",
      "21\n",
      "Continue? (y/n)y\n",
      "16\n",
      "Continue? (y/n)y\n",
      "32\n",
      "Continue? (y/n)y\n",
      "12\n",
      "Continue? (y/n)n\n"
     ]
    }
   ],
   "source": [
    "get_next = True\n",
    "\n",
    "while get_next:\n",
    "    print(np.random.randint(0, 38))\n",
    "    get_next = input('Continue? (y/n)') == 'y'"
   ]
  },
  {
   "cell_type": "markdown",
   "metadata": {},
   "source": [
    "### 2. \n",
    "1. Напишите код, проверяющий любую из теорем сложения или умножения вероятности на примере рулетки или подбрасывания монетки."
   ]
  },
  {
   "cell_type": "markdown",
   "metadata": {},
   "source": [
    "Условие: Пусть в группе учится 29 человек. Определите, какова вероятность того, что большинство студентов мужского или женского пола.\n",
    "- P(A + B + C) = P(A) + P(B) + P(C) (Теорема о сложении вероятностей несовместных событий)\n",
    "- P(A + B + C) = 1\n",
    "- P(A) - вероятность того, что большинство учащихся мужского пола\n",
    "- P(B) - вероятность того, что большинство учащихся женского пола\n",
    "- P(C) - вероятность того, что в группе поровну мальчиков и девочек)"
   ]
  },
  {
   "cell_type": "code",
   "execution_count": 3,
   "metadata": {},
   "outputs": [],
   "source": [
    "k = 1000\n",
    "total = 29\n",
    "\n",
    "p_abc = []\n",
    "\n",
    "while k > 0:    \n",
    "    students = np.random.choice(['m', 'w'], total)\n",
    "    \n",
    "    m = np.sum(students == 'm')\n",
    "    w = total - m\n",
    "    \n",
    "    p_abc.append((m > w) + (w > m) + (m == w))\n",
    "   \n",
    "    k = k - 1"
   ]
  },
  {
   "cell_type": "code",
   "execution_count": 4,
   "metadata": {
    "scrolled": true
   },
   "outputs": [
    {
     "name": "stdout",
     "output_type": "stream",
     "text": [
      "True\n"
     ]
    }
   ],
   "source": [
    "print(np.all(np.array(p_abc) == True))"
   ]
  },
  {
   "cell_type": "markdown",
   "metadata": {},
   "source": [
    "2. Сгенерируйте десять выборок случайных чисел х0, …, х9. и постройте гистограмму распределения случайной суммы х0+х1+ …+ х9."
   ]
  },
  {
   "cell_type": "code",
   "execution_count": 5,
   "metadata": {},
   "outputs": [],
   "source": [
    "from numpy.random import randint as randint\n",
    "from numpy.random import choice as choice"
   ]
  },
  {
   "cell_type": "code",
   "execution_count": 6,
   "metadata": {},
   "outputs": [
    {
     "data": {
      "image/png": "[encoded data removed]",
      "text/plain": [
       "<Figure size 432x288 with 1 Axes>"
      ]
     },
     "metadata": {
      "needs_background": "light"
     },
     "output_type": "display_data"
    }
   ],
   "source": [
    "size = 10\n",
    "low = 0\n",
    "high = 1000\n",
    "\n",
    "sums = [choice(range(low, high), size, replace=False).sum() \n",
    "        for _ in range(size)] \n",
    "\n",
    "plt.hist(sums, 10);"
   ]
  },
  {
   "cell_type": "markdown",
   "metadata": {},
   "source": [
    "### 3.\n",
    "1. Дополните код Монте-Карло последовательности независимых испытаний расчетом соответствующих вероятностей (через биномиальное распределение) \n",
    "и сравните результаты.\n",
    "2. Повторите расчеты биномиальных коэффициентов и вероятностей k успехов в последовательности из n независимых испытаний, взяв другие значения n и k."
   ]
  },
  {
   "cell_type": "code",
   "execution_count": 7,
   "metadata": {},
   "outputs": [],
   "source": [
    "from math import factorial"
   ]
  },
  {
   "cell_type": "code",
   "execution_count": 8,
   "metadata": {
    "scrolled": true
   },
   "outputs": [
    {
     "name": "stdout",
     "output_type": "stream",
     "text": [
      "\n",
      "Количество испытаний - 10\n",
      "Количество успешных испытаний - 3\n",
      "Вероятность успеха (практическая) - 30 % \n",
      "Вероятность успеха (теоретическая) - 12 % \n",
      "\n"
     ]
    }
   ],
   "source": [
    "k, n, t = 0, 10, 4 # t % 2 == 0\n",
    "\n",
    "# Немного переделал пример из видеоурока,\n",
    "# чтобы было интереснее\n",
    "for _ in range(n):\n",
    "    bits_by_index = np.random.randint(0, 2, t)\n",
    "    if bits_by_index.sum() == t / 2:\n",
    "        k = k + 1\n",
    " \n",
    "p_teor = k / n * 100\n",
    "\n",
    "c = factorial(n) / (factorial(k) * factorial(n - k))\n",
    "p_empir = c / 2**n * 100\n",
    "\n",
    "print(f'''\n",
    "Количество испытаний - {n}\n",
    "Количество успешных испытаний - {k}\n",
    "Вероятность успеха (практическая) - {p_teor:.0f} % \n",
    "Вероятность успеха (теоретическая) - {p_empir:.0f} % \n",
    "''')"
   ]
  },
  {
   "cell_type": "markdown",
   "metadata": {},
   "source": [
    "### 4. \n",
    "Из урока по комбинаторике повторите расчеты, сгенерировав возможные варианты перестановок для других значений n и k"
   ]
  },
  {
   "cell_type": "code",
   "execution_count": 9,
   "metadata": {},
   "outputs": [],
   "source": [
    "from itertools import permutations, product, combinations"
   ]
  },
  {
   "cell_type": "code",
   "execution_count": 10,
   "metadata": {},
   "outputs": [],
   "source": [
    "def calc_param(arr, k, is_print, func, param_name):\n",
    "    count = 0\n",
    "    \n",
    "    sets = list(func(arr, k))\n",
    "    length = len(sets)\n",
    "    \n",
    "    print(f'Количество {param_name} - {length}')\n",
    "       \n",
    "    if is_print:\n",
    "        for p in sets:        \n",
    "            print(''.join(str(el) for el in p))"
   ]
  },
  {
   "cell_type": "code",
   "execution_count": 11,
   "metadata": {
    "scrolled": true
   },
   "outputs": [
    {
     "name": "stdout",
     "output_type": "stream",
     "text": [
      "Для последовательность [0,1,2,3] и длины подпоследовательность k=3\n",
      "Количество перестановок - 24\n",
      "Количество размещений - 24\n",
      "Количество сочетаний с повторами - 64\n",
      "Количество сочетаний без повторов - 4\n"
     ]
    }
   ],
   "source": [
    "arr = '0123'\n",
    "n, k = 4, 3\n",
    "\n",
    "print(f'Для последовательность [{\",\".join(arr)}] и длины подпоследовательность k={k}')\n",
    "\n",
    "calc_param(arr, n, False, permutations, 'перестановок')\n",
    "calc_param(arr, k, False, permutations, 'размещений')\n",
    "calc_param(arr, k, False, lambda arr, k: product(arr, repeat=k), 'сочетаний с повторами')\n",
    "calc_param(arr, k, False, combinations, 'сочетаний без повторов')"
   ]
  },
  {
   "cell_type": "markdown",
   "metadata": {},
   "source": [
    "### 5. \n",
    "Дополните код расчетом коэффициента корреляции x и y"
   ]
  },
  {
   "cell_type": "code",
   "execution_count": 12,
   "metadata": {
    "scrolled": true
   },
   "outputs": [
    {
     "name": "stdout",
     "output_type": "stream",
     "text": [
      "0.7022645183826188 0.1512106085248098\n",
      "0.7022645183826182 0.15121060852481016\n",
      "Коэффициент корреляции (library) - 0.9167273761819007\n",
      "0.24650185767335983\n",
      "0.4304972435600516\n",
      "Коэффициент корреляции (custom) - 120.0\n"
     ]
    },
    {
     "data": {
      "image/png": "[encoded data removed]",
      "text/plain": [
       "<Figure size 432x288 with 1 Axes>"
      ]
     },
     "metadata": {
      "needs_background": "light"
     },
     "output_type": "display_data"
    }
   ],
   "source": [
    "n = 100\n",
    "r = 0.7\n",
    "x = np.random.rand(n)\n",
    "y = r * x + (1 - r) * np.random.rand(n)\n",
    "plt.plot(x, y, 'o')\n",
    "plt.xlabel('x')\n",
    "plt.ylabel('y')\n",
    "plt.grid(True)\n",
    "\n",
    "a = (np.sum(x) * np.sum(y) - n * np.sum(x * y)) / (np.sum(x) * np.sum(x) - n * np.sum(x * x))\n",
    "b = (np.sum(y) - a * np.sum(x)) / n\n",
    "\n",
    "A = np.vstack([x, np.ones(len(x))]).T\n",
    "a1, b1 = np.linalg.lstsq(A, y)[0]\n",
    "print(a, b)\n",
    "print(a1, b1)\n",
    "print(f'Коэффициент корреляции (library) - {np.corrcoef(x, y)[0, 1]}')\n",
    "\n",
    "print(np.average(x * y))\n",
    "print(np.average(x))\n",
    " \n",
    "xy = np.average(x * y)\n",
    "x = np.average(x)\n",
    "y = np.average(y)\n",
    "    \n",
    "# c = (np.sum(x * y) - np.sum(x) * np.sum(y)) / (np.sqrt(np.sum(x**2) - x**(-2)))\n",
    "print(f'Коэффициент корреляции (custom) - {c}')\n",
    "\n",
    "plt.plot([0, 1], [b, a + b])\n",
    "plt.show()"
   ]
  }
 ],
 "metadata": {
  "kernelspec": {
   "display_name": "Python 3",
   "language": "python",
   "name": "python3"
  },
  "language_info": {
   "codemirror_mode": {
    "name": "ipython",
    "version": 3
   },
   "file_extension": ".py",
   "mimetype": "text/x-python",
   "name": "python",
   "nbconvert_exporter": "python",
   "pygments_lexer": "ipython3",
   "version": "3.7.3"
  }
 },
 "nbformat": 4,
 "nbformat_minor": 2
}
